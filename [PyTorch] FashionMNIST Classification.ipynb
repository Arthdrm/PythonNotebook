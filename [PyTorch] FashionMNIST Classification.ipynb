{
 "cells": [
  {
   "cell_type": "markdown",
   "metadata": {},
   "source": [
    "# Pytorch Sandbox"
   ]
  },
  {
   "cell_type": "code",
   "execution_count": 1,
   "metadata": {
    "execution": {
     "iopub.execute_input": "2024-03-27T04:05:03.676969Z",
     "iopub.status.busy": "2024-03-27T04:05:03.676733Z",
     "iopub.status.idle": "2024-03-27T04:05:18.132469Z",
     "shell.execute_reply": "2024-03-27T04:05:18.131317Z",
     "shell.execute_reply.started": "2024-03-27T04:05:03.676946Z"
    }
   },
   "outputs": [
    {
     "name": "stdout",
     "output_type": "stream",
     "text": [
      "Requirement already satisfied: torchinfo in /opt/conda/lib/python3.10/site-packages (1.8.0)\n",
      "Note: you may need to restart the kernel to use updated packages.\n"
     ]
    }
   ],
   "source": [
    "# Installing libraries\n",
    "pip install torchinfo"
   ]
  },
  {
   "cell_type": "code",
   "execution_count": 1,
   "metadata": {
    "_cell_guid": "b1076dfc-b9ad-4769-8c92-a6c4dae69d19",
    "_uuid": "8f2839f25d086af736a60e9eeb907d3b93b6e0e5"
   },
   "outputs": [],
   "source": [
    "# General libraries\n",
    "from datetime import datetime\n",
    "import matplotlib.pyplot as plt\n",
    "import numpy as np\n",
    "import os\n",
    "\n",
    "# Pytorch Model and training necessities\n",
    "import torch\n",
    "import torchvision\n",
    "import torch.nn as nn\n",
    "import torch.optim as optim\n",
    "import torchvision.datasets as datasets\n",
    "import torchvision.transforms as transforms\n",
    "from torchinfo import summary # For model architecture summary\n",
    "\n",
    "# Model performance evaluation\n",
    "from sklearn.metrics import precision_score, recall_score, f1_score\n",
    "\n",
    "# Pytorch tensorboard support\n",
    "from torch.utils.tensorboard import SummaryWriter"
   ]
  },
  {
   "cell_type": "code",
   "execution_count": 2,
   "metadata": {
    "editable": true,
    "slideshow": {
     "slide_type": ""
    },
    "tags": []
   },
   "outputs": [
    {
     "data": {
      "text/plain": [
       "device(type='cuda')"
      ]
     },
     "execution_count": 2,
     "metadata": {},
     "output_type": "execute_result"
    }
   ],
   "source": [
    "# Checking the availability of GPU\n",
    "device = torch.device(\"cuda\" if torch.cuda.is_available() else \"cpu\")\n",
    "device"
   ]
  },
  {
   "cell_type": "code",
   "execution_count": 4,
   "metadata": {},
   "outputs": [],
   "source": [
    "# Define the CNN architecture\n",
    "class FashionCNN(nn.Module):\n",
    "    def __init__(self):\n",
    "        # Calling nn.Module init method\n",
    "        super(FashionCNN, self).__init__() # Similar to super().___init__()\n",
    "        self.conv1 = nn.Conv2d(1, 6, kernel_size=5, stride=1, padding=1)\n",
    "        self.relu = nn.ReLU()\n",
    "        self.maxpool = nn.MaxPool2d(kernel_size=2, stride=2) \n",
    "        self.conv2 = nn.Conv2d(6, 16, kernel_size=5, stride=1, padding=1)\n",
    "        # The input shape of the linear layer below correspond to the number of pixels\n",
    "        # after the input has been flattened, which is output channel of previous channel * height * width.\n",
    "        self.fc1 = nn.Linear(16 * 5 * 5, 128)\n",
    "        self.fc2 = nn.Linear(128, 84)\n",
    "        self.fc3 = nn.Linear(84, 10)\n",
    "\n",
    "    def forward(self, x):\n",
    "        out = self.conv1(x)\n",
    "        out = self.relu(out)\n",
    "        out = self.maxpool(out)\n",
    "        out = self.conv2(out)\n",
    "        out = self.relu(out)\n",
    "        out = self.maxpool(out)\n",
    "        out = out.view(-1, 16*5*5) # Equivalent to flat layers (Reshape tensor). -1 let pytorch infer the second dimension\n",
    "        out = self.fc1(out)\n",
    "        out = self.relu(out)\n",
    "        out = self.fc2(out)\n",
    "        out = self.relu(out)\n",
    "        out = self.fc3(out)\n",
    "        return out"
   ]
  },
  {
   "cell_type": "code",
   "execution_count": 5,
   "metadata": {},
   "outputs": [
    {
     "data": {
      "text/plain": [
       "==========================================================================================\n",
       "Layer (type:depth-idx)                   Output Shape              Param #\n",
       "==========================================================================================\n",
       "FashionCNN                               [1, 10]                   --\n",
       "├─Conv2d: 1-1                            [1, 6, 26, 26]            156\n",
       "├─ReLU: 1-2                              [1, 6, 26, 26]            --\n",
       "├─MaxPool2d: 1-3                         [1, 6, 13, 13]            --\n",
       "├─Conv2d: 1-4                            [1, 16, 11, 11]           2,416\n",
       "├─ReLU: 1-5                              [1, 16, 11, 11]           --\n",
       "├─MaxPool2d: 1-6                         [1, 16, 5, 5]             --\n",
       "├─Linear: 1-7                            [1, 128]                  51,328\n",
       "├─ReLU: 1-8                              [1, 128]                  --\n",
       "├─Linear: 1-9                            [1, 84]                   10,836\n",
       "├─ReLU: 1-10                             [1, 84]                   --\n",
       "├─Linear: 1-11                           [1, 10]                   850\n",
       "==========================================================================================\n",
       "Total params: 65,586\n",
       "Trainable params: 65,586\n",
       "Non-trainable params: 0\n",
       "Total mult-adds (Units.MEGABYTES): 0.46\n",
       "==========================================================================================\n",
       "Input size (MB): 0.00\n",
       "Forward/backward pass size (MB): 0.05\n",
       "Params size (MB): 0.26\n",
       "Estimated Total Size (MB): 0.32\n",
       "=========================================================================================="
      ]
     },
     "execution_count": 5,
     "metadata": {},
     "output_type": "execute_result"
    }
   ],
   "source": [
    "# Initialize the model, loss function, and optimizer\n",
    "model = FashionCNN().to(device)\n",
    "loss_fn = nn.CrossEntropyLoss()\n",
    "optimizer = optim.SGD(model.parameters(), lr=0.001, momentum=0.9)\n",
    "summary(model, input_size=(1, 1, 28, 28))"
   ]
  },
  {
   "cell_type": "code",
   "execution_count": 6,
   "metadata": {
    "editable": true,
    "slideshow": {
     "slide_type": ""
    },
    "tags": []
   },
   "outputs": [],
   "source": [
    "# Transformations to be applied to each image\n",
    "transform = transforms.Compose([\n",
    "    transforms.ToTensor(), \n",
    "    transforms.Normalize((0.5,), (0.5,))\n",
    "])\n",
    "\n",
    "# Load the Fashion-MNIST dataset (download the dataset if it's not already available)\n",
    "root = os.path.join(os.getcwd(),\"dataset\")\n",
    "train_dataset = datasets.FashionMNIST(\n",
    "    root=root, \n",
    "    train=True, \n",
    "    download=True, \n",
    "    transform=transform\n",
    ")\n",
    "\n",
    "test_dataset = datasets.FashionMNIST(\n",
    "    root=root, \n",
    "    train=False, \n",
    "    download=True, \n",
    "    transform=transform\n",
    ")\n"
   ]
  },
  {
   "cell_type": "code",
   "execution_count": 7,
   "metadata": {},
   "outputs": [
    {
     "name": "stdout",
     "output_type": "stream",
     "text": [
      "Training size: 60000\n",
      "Validation size: 10000\n"
     ]
    }
   ],
   "source": [
    "# Create data loaders to load dataset in batch.\n",
    "train_loader = torch.utils.data.DataLoader(\n",
    "    dataset=train_dataset, \n",
    "    batch_size=4, \n",
    "    shuffle=True\n",
    ")\n",
    "test_loader = torch.utils.data.DataLoader(\n",
    "    dataset=test_dataset, \n",
    "    batch_size=4, \n",
    "    shuffle=False\n",
    ")\n",
    "\n",
    "# Class labels\n",
    "classes = (\n",
    "    'T-shirt/top',\n",
    "    'Trouser',\n",
    "    'Pullover',\n",
    "    'Dress',\n",
    "    'Coat',\n",
    "    'Sandal',\n",
    "    'Shirt',\n",
    "    'Sneaker',\n",
    "    'Bag',\n",
    "    'Ankle Boot'\n",
    ")\n",
    "\n",
    "# Display split sizes\n",
    "print(\"Training size: {}\".format(len(train_dataset)))\n",
    "print(\"Validation size: {}\".format(len(test_dataset)))"
   ]
  },
  {
   "cell_type": "code",
   "execution_count": 8,
   "metadata": {
    "editable": true,
    "slideshow": {
     "slide_type": ""
    },
    "tags": []
   },
   "outputs": [
    {
     "name": "stdout",
     "output_type": "stream",
     "text": [
      "Image shape:  torch.Size([4, 1, 28, 28])\n",
      "Pullover Ankle Boot T-shirt/top Coat\n"
     ]
    },
    {
     "data": {
      "image/png": "[encoded data removed]",
      "text/plain": [
       "<Figure size 640x480 with 1 Axes>"
      ]
     },
     "metadata": {},
     "output_type": "display_data"
    }
   ],
   "source": [
    "# Sanity check (Visualizing the first batch of images & labels)\n",
    "def matplotlib_imshow(img, one_channel=False):\n",
    "  if one_channel:\n",
    "    img = img.mean(dim=0)\n",
    "  img = img / 2 + 0.5\n",
    "  npimg = img.numpy()\n",
    "  if one_channel:\n",
    "    plt.imshow(npimg, cmap=\"Greys\")\n",
    "  else:\n",
    "    plt.imshow(np.transpose(npimg, (1,2,0)))\n",
    "\n",
    "# The dataloader implement the iter protocol (iter magic method),\n",
    "# thus to access data within it (batches of image & label)\n",
    "# we must create an iterator object from it.\n",
    "dataiter = iter(train_loader)\n",
    "# Getting the first batch of images & labels (32 pairs)\n",
    "images, labels = next(dataiter)\n",
    "\n",
    "# Create a grid from the images and show them\n",
    "img_grid = torchvision.utils.make_grid(images)\n",
    "matplotlib_imshow(img_grid, one_channel=True)\n",
    "print('Image shape: ', images.shape)\n",
    "print(' '.join(classes[labels[j]] for j in range(len(labels))))"
   ]
  },
  {
   "cell_type": "code",
   "execution_count": 9,
   "metadata": {
    "editable": true,
    "slideshow": {
     "slide_type": ""
    },
    "tags": []
   },
   "outputs": [],
   "source": [
    "# Writing sample images to tensorboard\n",
    "# Instantiating a SummaryWriter object. Signature: SummaryWriter('dir/tag'), the default dir is ./runs/.\n",
    "writer = SummaryWriter('runs/fashion_mnist')\n",
    "# Adding the image grid\n",
    "writer.add_image('Four FashionMNIST images 2', img_grid)\n",
    "# Write all pending events to disk\n",
    "writer.flush()"
   ]
  },
  {
   "cell_type": "code",
   "execution_count": 11,
   "metadata": {},
   "outputs": [],
   "source": [
    "# Training function\n",
    "def train_one_epoch(epoch_index, tb_writer):\n",
    "  running_loss = 0.\n",
    "  last_loss = 0.\n",
    "\n",
    "  # Looping each batch of data\n",
    "  for i, (inputs, labels) in enumerate(train_loader):\n",
    "    # Every data instance is a batch of image & label pairs.\n",
    "    inputs, labels = inputs.to(device), labels.to(device)\n",
    "    # Setting the gradient to zero for every batch (Mini-batch gradient descent)\n",
    "    optimizer.zero_grad()\n",
    "    # Compute the predictions for this batch (The forward method is called implicitly)\n",
    "    outputs = model(inputs)\n",
    "    # Compute the loss \n",
    "    loss = loss_fn(outputs, labels)\n",
    "    # Compute the gradients using autograd\n",
    "    loss.backward()\n",
    "    # Adjusting the learning weights (Backprop)\n",
    "    optimizer.step()\n",
    "    # Logging the loss for each 1k batches.\n",
    "    # For the current config (4 batches), there will be 15k batches in 1 epoch.\n",
    "    running_loss += loss.item()\n",
    "    if i % 1000 == 999:\n",
    "      last_loss = running_loss / 1000\n",
    "      print(f'Batch {i+1} loss: {last_loss}')\n",
    "      # Visualizing with tensorboard\n",
    "      tb_x = epoch_index * len(train_loader) + i + 1\n",
    "      tb_writer.add_scalar('Loss/train', last_loss, tb_x)\n",
    "      running_loss = 0.\n",
    "\n",
    "  return last_loss"
   ]
  },
  {
   "cell_type": "code",
   "execution_count": 12,
   "metadata": {
    "editable": true,
    "slideshow": {
     "slide_type": ""
    },
    "tags": []
   },
   "outputs": [
    {
     "name": "stdout",
     "output_type": "stream",
     "text": [
      "\n",
      "EPOCH 1:\n",
      "Batch 1000 loss: 1.6935092932879925\n",
      "Batch 2000 loss: 0.7964923129491508\n",
      "Batch 3000 loss: 0.6843814545702189\n",
      "Batch 4000 loss: 0.5934257045909762\n",
      "Batch 5000 loss: 0.5754465280887671\n",
      "Batch 6000 loss: 0.5208729945053346\n",
      "Batch 7000 loss: 0.4812990891374648\n",
      "Batch 8000 loss: 0.47404948402300945\n",
      "Batch 9000 loss: 0.4753556819287478\n",
      "Batch 10000 loss: 0.45554060108569683\n",
      "Batch 11000 loss: 0.4420226871923078\n",
      "Batch 12000 loss: 0.4057664921041869\n",
      "Batch 13000 loss: 0.41184616823491527\n",
      "Batch 14000 loss: 0.3945435380007184\n",
      "Batch 15000 loss: 0.3815532859823434\n",
      "Training loss: 0.3815532859823434, validation loss: 0.406253457069397\n",
      "\n",
      "EPOCH 2:\n",
      "Batch 1000 loss: 0.37927764279543774\n",
      "Batch 2000 loss: 0.3902988552075403\n",
      "Batch 3000 loss: 0.37117619880595887\n",
      "Batch 4000 loss: 0.3661907038381032\n",
      "Batch 5000 loss: 0.3902758456920128\n",
      "Batch 6000 loss: 0.3439492403399199\n",
      "Batch 7000 loss: 0.34273655101879924\n",
      "Batch 8000 loss: 0.3425112566638272\n",
      "Batch 9000 loss: 0.33756579473233433\n",
      "Batch 10000 loss: 0.347045003929903\n",
      "Batch 11000 loss: 0.3247162744002926\n",
      "Batch 12000 loss: 0.3257843560588226\n",
      "Batch 13000 loss: 0.30676985737358337\n",
      "Batch 14000 loss: 0.33015896723332117\n",
      "Batch 15000 loss: 0.3133238432637445\n",
      "Training loss: 0.3133238432637445, validation loss: 0.3396858274936676\n",
      "\n",
      "EPOCH 3:\n",
      "Batch 1000 loss: 0.32632314604893325\n",
      "Batch 2000 loss: 0.30265959722115077\n",
      "Batch 3000 loss: 0.2963932604320289\n",
      "Batch 4000 loss: 0.2987506753323578\n",
      "Batch 5000 loss: 0.2780888726164703\n",
      "Batch 6000 loss: 0.30145271233564197\n",
      "Batch 7000 loss: 0.30164022091747755\n",
      "Batch 8000 loss: 0.28750832354948214\n",
      "Batch 9000 loss: 0.30964224543778257\n",
      "Batch 10000 loss: 0.3142165184914629\n",
      "Batch 11000 loss: 0.306885319695255\n",
      "Batch 12000 loss: 0.304319126276474\n",
      "Batch 13000 loss: 0.29427590631767997\n",
      "Batch 14000 loss: 0.299486257253011\n",
      "Batch 15000 loss: 0.29866464200284465\n",
      "Training loss: 0.29866464200284465, validation loss: 0.3586227595806122\n",
      "\n",
      "EPOCH 4:\n",
      "Batch 1000 loss: 0.2800309840761975\n",
      "Batch 2000 loss: 0.2603770180312331\n",
      "Batch 3000 loss: 0.27835375549337094\n",
      "Batch 4000 loss: 0.2588314916159434\n",
      "Batch 5000 loss: 0.27709759733674943\n",
      "Batch 6000 loss: 0.2632368117861633\n",
      "Batch 7000 loss: 0.27654546590970497\n",
      "Batch 8000 loss: 0.2737033687894508\n",
      "Batch 9000 loss: 0.2961004273898743\n",
      "Batch 10000 loss: 0.26143508337192906\n",
      "Batch 11000 loss: 0.27840413149047527\n",
      "Batch 12000 loss: 0.27502120531388935\n",
      "Batch 13000 loss: 0.2789861959550326\n",
      "Batch 14000 loss: 0.27993081910295586\n",
      "Batch 15000 loss: 0.2629181518155292\n",
      "Training loss: 0.2629181518155292, validation loss: 0.33538752794265747\n",
      "\n",
      "EPOCH 5:\n",
      "Batch 1000 loss: 0.25387489083861875\n",
      "Batch 2000 loss: 0.2564791360569898\n",
      "Batch 3000 loss: 0.2677941740137867\n",
      "Batch 4000 loss: 0.2575937410028928\n",
      "Batch 5000 loss: 0.24894383140743584\n",
      "Batch 6000 loss: 0.2554951162150646\n",
      "Batch 7000 loss: 0.24309855613123546\n",
      "Batch 8000 loss: 0.25932859155871757\n",
      "Batch 9000 loss: 0.26076256102751133\n",
      "Batch 10000 loss: 0.2557696283217042\n",
      "Batch 11000 loss: 0.2619619087236897\n",
      "Batch 12000 loss: 0.26039005065484155\n",
      "Batch 13000 loss: 0.24581223375666103\n",
      "Batch 14000 loss: 0.2445343622384189\n",
      "Batch 15000 loss: 0.26948854638166586\n",
      "Training loss: 0.26948854638166586, validation loss: 0.3044252395629883\n",
      "\n",
      "EPOCH 6:\n",
      "Batch 1000 loss: 0.22009770259938113\n",
      "Batch 2000 loss: 0.23728170347746708\n",
      "Batch 3000 loss: 0.2264644043610915\n",
      "Batch 4000 loss: 0.25212872377904566\n",
      "Batch 5000 loss: 0.23397748042980493\n",
      "Batch 6000 loss: 0.2223862940633317\n",
      "Batch 7000 loss: 0.2378978746792277\n",
      "Batch 8000 loss: 0.2392570087876593\n",
      "Batch 9000 loss: 0.24797946748161667\n",
      "Batch 10000 loss: 0.2635224972791066\n",
      "Batch 11000 loss: 0.24719522839344063\n",
      "Batch 12000 loss: 0.24098184599638847\n",
      "Batch 13000 loss: 0.2233276053849072\n",
      "Batch 14000 loss: 0.23134964222308507\n",
      "Batch 15000 loss: 0.26533564494792333\n",
      "Training loss: 0.26533564494792333, validation loss: 0.3008303642272949\n",
      "\n",
      "EPOCH 7:\n",
      "Batch 1000 loss: 0.21434594513640468\n",
      "Batch 2000 loss: 0.2305471053098222\n",
      "Batch 3000 loss: 0.23655971955866517\n",
      "Batch 4000 loss: 0.24226847500154167\n",
      "Batch 5000 loss: 0.21921581962251957\n",
      "Batch 6000 loss: 0.22579271918797578\n",
      "Batch 7000 loss: 0.2175136320762765\n",
      "Batch 8000 loss: 0.21265903349079998\n",
      "Batch 9000 loss: 0.23352562074975594\n",
      "Batch 10000 loss: 0.24868779365791124\n",
      "Batch 11000 loss: 0.2167322080853728\n",
      "Batch 12000 loss: 0.2083852024216394\n",
      "Batch 13000 loss: 0.2448683898759782\n",
      "Batch 14000 loss: 0.21786799059397072\n",
      "Batch 15000 loss: 0.22331422876567059\n",
      "Training loss: 0.22331422876567059, validation loss: 0.27461618185043335\n"
     ]
    }
   ],
   "source": [
    "# Training loop\n",
    "timestamp = datetime.now().strftime('%Y%m%d_%H%M%S')\n",
    "writer = SummaryWriter('runs/fashion_trainer_{}'.format(timestamp))\n",
    "epoch_number = 0\n",
    "EPOCHS = 7\n",
    "best_vloss = 1_000_000. # vloss -> validation loss. Initial validation loss threshold.\n",
    "for epoch in range(EPOCHS):\n",
    "  print('\\nEPOCH {}:'.format(epoch_number + 1))\n",
    "  # Set the model to training mode\n",
    "  model.train(True)\n",
    "  # Calling the training function\n",
    "  avg_loss = train_one_epoch(epoch_number, writer)\n",
    "  running_vloss = 0.0\n",
    "  # Set the model to evaluation mode\n",
    "  model.eval()\n",
    "  # Temporarily disable gradient computation during inference for validation data.\n",
    "  with torch.no_grad():\n",
    "    for i, (vinputs, vlabels) in enumerate(test_loader):\n",
    "      vinputs, vlabels = vinputs.to(device), vlabels.to(device)\n",
    "      voutputs = model(vinputs)\n",
    "      vloss = loss_fn(voutputs, vlabels)\n",
    "      running_vloss += vloss\n",
    "\n",
    "  avg_vloss = running_vloss / (i + 1) # i + 1 because index starts from 0.\n",
    "  print('Training loss: {}, validation loss: {}'.format(avg_loss, avg_vloss))\n",
    "\n",
    "  # Log the average running loss for training & validation dataset to TensorBoard (at each batch)\n",
    "  writer.add_scalars(\n",
    "      main_tag='Training vs. Validation Loss',\n",
    "      tag_scalar_dict={'Training': avg_loss, 'Validation': avg_vloss},\n",
    "      global_step=epoch_number + 1\n",
    "  )\n",
    "  writer.flush()\n",
    "\n",
    "  # Saved the model state that has the smallest validation loss (savepoint).\n",
    "  if avg_vloss < best_vloss:\n",
    "    best_vloss = avg_vloss\n",
    "    model_path = 'model_{}_{}'.format(timestamp, epoch_number)\n",
    "    torch.save(model.state_dict(), model_path)\n",
    "\n",
    "  epoch_number += 1"
   ]
  },
  {
   "cell_type": "code",
   "execution_count": 6,
   "metadata": {
    "execution": {
     "iopub.execute_input": "2024-03-27T04:10:32.329330Z",
     "iopub.status.busy": "2024-03-27T04:10:32.328641Z",
     "iopub.status.idle": "2024-03-27T04:10:32.384122Z",
     "shell.execute_reply": "2024-03-27T04:10:32.383208Z",
     "shell.execute_reply.started": "2024-03-27T04:10:32.329298Z"
    }
   },
   "outputs": [
    {
     "data": {
      "text/plain": [
       "<All keys matched successfully>"
      ]
     },
     "execution_count": 6,
     "metadata": {},
     "output_type": "execute_result"
    }
   ],
   "source": [
    "# Load pre-trained weights\n",
    "model.load_state_dict(torch.load('/kaggle/input/variant_1/pytorch/test-1/1/model_20240325_185715_2'))"
   ]
  },
  {
   "cell_type": "code",
   "execution_count": 13,
   "metadata": {},
   "outputs": [
    {
     "name": "stdout",
     "output_type": "stream",
     "text": [
      "Precission:  1.0\n",
      "Recall:  1.0\n",
      "F1_Macro:  1.0\n"
     ]
    }
   ],
   "source": [
    "# Calculating multiclassification metrics & confusion matrix\n",
    "model.eval()\n",
    "with torch.no_grad():\n",
    "    for vinputs, vlabels in test_loader:\n",
    "        vinputs, vlabels = vinputs.to(device), vlabels.to(device)\n",
    "        voutputs = model(vinputs)\n",
    "        # Sending back the outputs & label to CPU\n",
    "        voutputs = voutputs.detach().cpu().numpy()\n",
    "        vlabels = vlabels.detach().cpu().numpy()\n",
    "    \n",
    "precision = precision_score(vlabels, voutputs.argmax(axis=1), average='macro')\n",
    "recall = recall_score(vlabels, voutputs.argmax(axis=1), average='macro')\n",
    "f1 = f1_score(vlabels, voutputs.argmax(axis=1), average='macro')\n",
    "\n",
    "print('Precission: ', precision)\n",
    "print('Recall: ', recall)\n",
    "print('F1_Macro: ', f1)"
   ]
  },
  {
   "cell_type": "code",
   "execution_count": 14,
   "metadata": {},
   "outputs": [],
   "source": [
    "# Final save for model & weights\n",
    "torch.save(model.state_dict(), 'final_weights.pth')"
   ]
  },
  {
   "cell_type": "markdown",
   "metadata": {},
   "source": [
    "# Multimodal Model Experiment"
   ]
  }
 ],
 "metadata": {
  "kaggle": {
   "accelerator": "nvidiaTeslaT4",
   "dataSources": [
    {
     "isSourceIdPinned": true,
     "modelInstanceId": 17024,
     "sourceId": 20541,
     "sourceType": "modelInstanceVersion"
    },
    {
     "isSourceIdPinned": true,
     "modelInstanceId": 17025,
     "sourceId": 20542,
     "sourceType": "modelInstanceVersion"
    }
   ],
   "dockerImageVersionId": 30674,
   "isGpuEnabled": true,
   "isInternetEnabled": true,
   "language": "python",
   "sourceType": "notebook"
  },
  "kernelspec": {
   "display_name": "Python 3 (ipykernel)",
   "language": "python",
   "name": "python3"
  },
  "language_info": {
   "codemirror_mode": {
    "name": "ipython",
    "version": 3
   },
   "file_extension": ".py",
   "mimetype": "text/x-python",
   "name": "python",
   "nbconvert_exporter": "python",
   "pygments_lexer": "ipython3",
   "version": "3.11.4"
  }
 },
 "nbformat": 4,
 "nbformat_minor": 4
}
